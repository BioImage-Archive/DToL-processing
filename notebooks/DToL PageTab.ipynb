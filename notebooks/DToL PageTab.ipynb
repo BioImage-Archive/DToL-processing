{
 "cells": [
  {
   "cell_type": "code",
   "execution_count": 1,
   "id": "8d071555",
   "metadata": {},
   "outputs": [],
   "source": [
    "%load_ext autoreload\n",
    "%autoreload on"
   ]
  },
  {
   "cell_type": "code",
   "execution_count": 3,
   "id": "2ba79d7b",
   "metadata": {},
   "outputs": [],
   "source": [
    "import sys\n",
    "sys.path.append(\"/Users/matthewh/projects/bia-internal-tools/\")"
   ]
  },
  {
   "cell_type": "code",
   "execution_count": 10,
   "id": "e409d2fd",
   "metadata": {},
   "outputs": [],
   "source": [
    "from bia_internal_tools.biostudies import Submission, Attribute, Section, Link"
   ]
  },
  {
   "cell_type": "markdown",
   "id": "0557934d",
   "metadata": {},
   "source": [
    "## Author"
   ]
  },
  {
   "cell_type": "code",
   "execution_count": 7,
   "id": "0214a386",
   "metadata": {},
   "outputs": [],
   "source": [
    "def create_author_section(full_name, email):\n",
    "\n",
    "    name_attr = Attribute(name=\"Name\", value=full_name)\n",
    "    email_attr = Attribute(name=\"Email\", value=email)\n",
    "\n",
    "    author_section = Section(\n",
    "        type=\"author\",\n",
    "        attributes=[\n",
    "            name_attr,\n",
    "            email_attr,\n",
    "        ]\n",
    "    )  # type: ignore\n",
    "    \n",
    "    return author_section"
   ]
  },
  {
   "cell_type": "code",
   "execution_count": 8,
   "id": "be55131e",
   "metadata": {},
   "outputs": [],
   "source": [
    "def create_link(url, link_type):\n",
    "    \n",
    "    link_attrs = [Attribute(name=\"Type\", value=link_type)]\n",
    "    return Link(url=url, attributes=link_attrs)"
   ]
  },
  {
   "cell_type": "code",
   "execution_count": 11,
   "id": "fe654d56",
   "metadata": {},
   "outputs": [],
   "source": [
    "author_section = create_author_section(\"Matthew Hartley\", \"matthewh@ebi.ac.uk\")\n",
    "link= create_link(\"https://www.example.com\", \"Example\")"
   ]
  },
  {
   "cell_type": "code",
   "execution_count": 12,
   "id": "4ea5ff80",
   "metadata": {},
   "outputs": [],
   "source": [
    "study_section = Section(\n",
    "    type=\"Study\",\n",
    "    links=[link],\n",
    "    subsections = [author_section]\n",
    ")"
   ]
  },
  {
   "cell_type": "code",
   "execution_count": 15,
   "id": "51f3c066",
   "metadata": {},
   "outputs": [],
   "source": [
    "submission = Submission(\n",
    "    accno=None,\n",
    "    attributes=[\n",
    "        Attribute(name=\"Title\", value=\"Short test submission\"),\n",
    "        Attribute(name=\"ReleaseDate\", value=\"2022-01-01\"),\n",
    "        Attribute(name=\"AttachTo\", value=\"BIA-Biodiversity\"),\n",
    "        Attribute(name=\"Template\", value=\"Default\")\n",
    "    ],\n",
    "    section=study_section,\n",
    ")"
   ]
  },
  {
   "cell_type": "code",
   "execution_count": 16,
   "id": "2a35d198",
   "metadata": {},
   "outputs": [
    {
     "name": "stdout",
     "output_type": "stream",
     "text": [
      "Submission\n",
      "Title\tShort test submission\n",
      "ReleaseDate\t2022-01-01\n",
      "AttachTo\tBIA-Biodiversity\n",
      "Template\tDefault\n",
      "\n",
      "Study\n",
      "\n",
      "Link\thttps://www.example.com\n",
      "Type\tExample\n",
      "\n",
      "author\n",
      "Name\tMatthew Hartley\n",
      "Email\tmatthewh@ebi.ac.uk\n",
      "\n"
     ]
    }
   ],
   "source": [
    "print(submission.as_tsv())"
   ]
  },
  {
   "cell_type": "code",
   "execution_count": 21,
   "id": "9e9cebf8",
   "metadata": {},
   "outputs": [
    {
     "name": "stdout",
     "output_type": "stream",
     "text": [
      "{'leaf': 0, 'tags': {'name': ['Homo sapiens'], 'genbank_common_name': ['human'], 'scientific_name': ['Homo sapiens'], 'authority': ['Homo sapiens Linnaeus, 1758']}, 'name': 'Homo sapiens', 'children': [{'tags': {'synonym': ['Homo sp. Altai'], 'scientific_name': [\"Homo sapiens subsp. 'Denisova'\"], 'equivalent_name': [\"Homo sapiens ssp. 'Denisova'\", 'Homo sapiens ssp. Denisova'], 'common_name': ['Denisovan', 'Denisovans'], 'name': [\"Homo sapiens subsp. 'Denisova'\"], 'genbank_common_name': ['Denisova hominin']}, 'name': \"Homo sapiens subsp. 'Denisova'\", 'leaf': 1, 'id': '741158', 'scientific_name': \"Homo sapiens subsp. 'Denisova'\"}, {'scientific_name': 'Homo sapiens neanderthalensis', 'id': '63221', 'leaf': 1, 'tags': {'common_name': ['Neandertal man', 'Neanderthal', 'Neanderthal man'], 'name': ['Homo sapiens neanderthalensis'], 'genbank_common_name': ['Neandertal'], 'synonym': ['Homo neanderthalensis'], 'type_material': ['Feldhofer 1', 'Neanderthal 1'], 'authority': ['Homo sapiens neanderthalensis King, 1864'], 'scientific_name': ['Homo sapiens neanderthalensis']}, 'name': 'Homo sapiens neanderthalensis'}], 'scientific_name': 'Homo sapiens', 'parent': {'id': '9605', 'scientific_name': 'Homo', 'tags': {'name': ['Homo'], 'common_name': ['humans'], 'scientific_name': ['Homo'], 'authority': ['Homo Linnaeus, 1758']}, 'name': 'Homo', 'leaf': 0}, 'id': '9606'}\n"
     ]
    }
   ],
   "source": [
    "import requests\n",
    "\n",
    "server = \"https://rest.ensembl.org\"\n",
    "ext = \"/taxonomy/id/9606?\"\n",
    "r = requests.get(server+ext, headers={ \"Content-Type\" : \"application/json\"})\n",
    "if not r.ok:\n",
    "  r.raise_for_status()\n",
    "  sys.exit()\n",
    "decoded = r.json()\n",
    "print(repr(decoded))"
   ]
  },
  {
   "cell_type": "code",
   "execution_count": 22,
   "id": "6b150abe",
   "metadata": {},
   "outputs": [],
   "source": [
    "title = \"Darwin Tree of Life (DToL) sample images\"\n",
    "description = \"A collection of images from different GALs.\""
   ]
  },
  {
   "cell_type": "code",
   "execution_count": null,
   "id": "1afdcf47",
   "metadata": {},
   "outputs": [],
   "source": []
  }
 ],
 "metadata": {
  "kernelspec": {
   "display_name": "Python 3 (ipykernel)",
   "language": "python",
   "name": "python3"
  },
  "language_info": {
   "codemirror_mode": {
    "name": "ipython",
    "version": 3
   },
   "file_extension": ".py",
   "mimetype": "text/x-python",
   "name": "python",
   "nbconvert_exporter": "python",
   "pygments_lexer": "ipython3",
   "version": "3.11.0"
  }
 },
 "nbformat": 4,
 "nbformat_minor": 5
}
