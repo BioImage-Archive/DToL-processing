{
 "cells": [
  {
   "cell_type": "code",
   "execution_count": 1,
   "id": "b406dd4c",
   "metadata": {},
   "outputs": [],
   "source": [
    "import json\n",
    "\n",
    "import pydantic\n",
    "import requests"
   ]
  },
  {
   "cell_type": "code",
   "execution_count": 2,
   "id": "b20d5dc4",
   "metadata": {},
   "outputs": [],
   "source": [
    "sample_id = \"SAMEA111457860\""
   ]
  },
  {
   "cell_type": "code",
   "execution_count": 3,
   "id": "0b366b06",
   "metadata": {},
   "outputs": [],
   "source": [
    "# request_uri = f\"https://www.ebi.ac.uk/biosamples/structureddata/SAMEA14448373\""
   ]
  },
  {
   "cell_type": "code",
   "execution_count": 4,
   "id": "54bc66dc",
   "metadata": {},
   "outputs": [],
   "source": [
    "r = requests.get(request_uri)"
   ]
  },
  {
   "cell_type": "code",
   "execution_count": 5,
   "id": "6971fa80",
   "metadata": {},
   "outputs": [
    {
     "data": {
      "text/plain": [
       "200"
      ]
     },
     "execution_count": 5,
     "metadata": {},
     "output_type": "execute_result"
    }
   ],
   "source": [
    "r.status_code"
   ]
  },
  {
   "cell_type": "code",
   "execution_count": 34,
   "id": "0bd67cdb",
   "metadata": {},
   "outputs": [],
   "source": [
    "import sys\n",
    "from datetime import datetime\n",
    "from typing import List, Dict, Optional\n",
    "\n",
    "import requests\n",
    "from pydantic import BaseModel\n",
    "\n",
    "\n",
    "class Relationship(BaseModel):\n",
    "    source: str\n",
    "    type: str\n",
    "    target: str\n",
    "        \n",
    "\n",
    "class Characteristic(BaseModel):\n",
    "    text: str\n",
    "    tag: Optional[str]\n",
    "    unit: Optional[str]\n",
    "    \n",
    "\n",
    "class BioSample(BaseModel):\n",
    "    name: str\n",
    "    accession: str\n",
    "    taxId: int\n",
    "    submitted: datetime\n",
    "    \n",
    "    characteristics: Dict[str, List[Characteristic]]\n",
    "    relationships: List[Relationship] = []\n",
    "        \n",
    "def get_biosample_record(sample_id):\n",
    "    request_uri = f\"http://www.ebi.ac.uk/biosamples/samples/{sample_id}\"\n",
    "    \n",
    "    r = requests.get(request_uri)\n",
    "    \n",
    "    if not r.ok:\n",
    "        r.raise_for_staus()\n",
    "        sys.exit()\n",
    "    \n",
    "    return BioSample.parse_raw(r.content)"
   ]
  },
  {
   "cell_type": "code",
   "execution_count": 41,
   "id": "8aa9dcd5",
   "metadata": {},
   "outputs": [],
   "source": [
    "sample_id = \"SAMEA111458369\""
   ]
  },
  {
   "cell_type": "code",
   "execution_count": 55,
   "id": "58fff4fb",
   "metadata": {},
   "outputs": [],
   "source": [
    "def sto(sample_id):\n",
    "\n",
    "    sample = get_biosample_record(sample_id)\n",
    "\n",
    "    attributes_dict = {\n",
    "        \"BioSamples accession ID\": sample.accession,\n",
    "        \"NCBI taxonomy ID\": sample.taxId\n",
    "    }\n",
    "\n",
    "    characteristics = [\n",
    "        \"organism\",\n",
    "        \"geographic location (latitude)\",\n",
    "        \"geographic location (longitude)\",\n",
    "        \"geographic location (region and locality)\",\n",
    "        \"habitat\",\n",
    "        \"sample collection device or method\",\n",
    "    ]\n",
    "\n",
    "    for characteristic in characteristics:\n",
    "        attributes_dict[characteristic] = sample.characteristics[characteristic][0].text\n",
    "\n",
    "    return attributes_dict"
   ]
  },
  {
   "cell_type": "code",
   "execution_count": 56,
   "id": "29554ecf",
   "metadata": {},
   "outputs": [
    {
     "data": {
      "text/plain": [
       "{'BioSamples accession ID': 'SAMEA111458369',\n",
       " 'NCBI taxonomy ID': 347362,\n",
       " 'organism': 'Hermaeophaga mercurialis',\n",
       " 'geographic location (latitude)': '51.67',\n",
       " 'geographic location (longitude)': '-0.79',\n",
       " 'geographic location (region and locality)': 'England|Naphill Common',\n",
       " 'habitat': 'NOT COLLECTED',\n",
       " 'sample collection device or method': 'Hand Picked'}"
      ]
     },
     "execution_count": 56,
     "metadata": {},
     "output_type": "execute_result"
    }
   ],
   "source": [
    "sto(sample_id)"
   ]
  },
  {
   "cell_type": "code",
   "execution_count": 57,
   "id": "f0799f82",
   "metadata": {},
   "outputs": [],
   "source": [
    "import json"
   ]
  },
  {
   "cell_type": "code",
   "execution_count": 58,
   "id": "8b21b1b4",
   "metadata": {},
   "outputs": [],
   "source": [
    "with open(\"../copo_biosamples_from_nhmdump_spreadsheet.json\") as fh:\n",
    "    raw_copo = json.load(fh)"
   ]
  },
  {
   "cell_type": "code",
   "execution_count": 62,
   "id": "39c3a9da",
   "metadata": {},
   "outputs": [],
   "source": [
    "sample_ids = list(raw_copo['biosampleAccession'].values())"
   ]
  },
  {
   "cell_type": "code",
   "execution_count": 63,
   "id": "c14a92f0",
   "metadata": {},
   "outputs": [
    {
     "data": {
      "text/plain": [
       "'SAMEA111458774'"
      ]
     },
     "execution_count": 63,
     "metadata": {},
     "output_type": "execute_result"
    }
   ],
   "source": [
    "sample_ids[42]"
   ]
  },
  {
   "cell_type": "code",
   "execution_count": 64,
   "id": "c315113a",
   "metadata": {},
   "outputs": [
    {
     "data": {
      "text/plain": [
       "{'BioSamples accession ID': 'SAMEA111458774',\n",
       " 'NCBI taxonomy ID': 1858070,\n",
       " 'organism': 'Scrobipalpa costella',\n",
       " 'geographic location (latitude)': '51.49',\n",
       " 'geographic location (longitude)': '-0.17',\n",
       " 'geographic location (region and locality)': 'England|Natural History Museum Wildlife Garden',\n",
       " 'habitat': 'NOT COLLECTED',\n",
       " 'sample collection device or method': '0'}"
      ]
     },
     "execution_count": 64,
     "metadata": {},
     "output_type": "execute_result"
    }
   ],
   "source": [
    "sto(sample_ids[42])"
   ]
  },
  {
   "cell_type": "code",
   "execution_count": 16,
   "id": "61def2d6",
   "metadata": {},
   "outputs": [
    {
     "data": {
      "text/plain": [
       "[Characteristic(text='51.51', tag='attribute', unit='DD')]"
      ]
     },
     "execution_count": 16,
     "metadata": {},
     "output_type": "execute_result"
    }
   ],
   "source": [
    "sample.characteristics['geographic location (latitude)']"
   ]
  },
  {
   "cell_type": "code",
   "execution_count": 46,
   "id": "dd42d196",
   "metadata": {},
   "outputs": [
    {
     "name": "stdout",
     "output_type": "stream",
     "text": [
      "ENA-CHECKLIST [Characteristic(text='ERC000053', tag='attribute', unit=None)]\n",
      "ENA-FIRST-PUBLIC [Characteristic(text='2022-10-12', tag='attribute', unit=None)]\n",
      "ENA-LAST-UPDATE [Characteristic(text='2022-10-12', tag='attribute', unit=None)]\n",
      "External Id [Characteristic(text='SAMEA111458369', tag='Namespace:BioSample', unit=None)]\n",
      "GAL [Characteristic(text='Natural History Museum', tag='attribute', unit=None)]\n",
      "GAL_sample_id [Characteristic(text='NHMUK014433935', tag='attribute', unit=None)]\n",
      "INSDC center alias [Characteristic(text='EarlhamInstitute', tag=None, unit=None)]\n",
      "INSDC center name [Characteristic(text='EarlhamInstitute', tag=None, unit=None)]\n",
      "INSDC first public [Characteristic(text='2022-10-12T14:28:02Z', tag=None, unit=None)]\n",
      "INSDC last update [Characteristic(text='2022-10-12T14:28:02Z', tag=None, unit=None)]\n",
      "INSDC status [Characteristic(text='public', tag=None, unit=None)]\n",
      "SRA accession [Characteristic(text='ERS13552405', tag=None, unit=None)]\n",
      "Submitter Id [Characteristic(text='633abc1a573023627367f104', tag='Namespace:EarlhamInstitute', unit=None)]\n",
      "barcoding center [Characteristic(text='NATURAL HISTORY MUSEUM', tag='attribute', unit=None)]\n",
      "broker name [Characteristic(text='Collaborative Open Plant Omics broker account, Earlham Institute, Norwich', tag=None, unit=None)]\n",
      "collected_by [Characteristic(text='MAXWELL BARCLAY', tag='attribute', unit=None)]\n",
      "collecting institution [Characteristic(text='NATURAL HISTORY MUSEUM', tag='attribute', unit=None)]\n",
      "collection date [Characteristic(text='2021-05-02', tag='attribute', unit=None)]\n",
      "geographic location (country and/or sea) [Characteristic(text='United Kingdom', tag='attribute', unit=None)]\n",
      "geographic location (latitude) [Characteristic(text='51.67', tag='attribute', unit='DD')]\n",
      "geographic location (longitude) [Characteristic(text='-0.79', tag='attribute', unit='DD')]\n",
      "geographic location (region and locality) [Characteristic(text='England|Naphill Common', tag='attribute', unit=None)]\n",
      "habitat [Characteristic(text='NOT COLLECTED', tag='attribute', unit=None)]\n",
      "identified_by [Characteristic(text='MAXWELL BARCLAY', tag='attribute', unit=None)]\n",
      "identifier_affiliation [Characteristic(text='NATURAL HISTORY MUSEUM', tag='attribute', unit=None)]\n",
      "lifestage [Characteristic(text='not collected', tag='attribute', unit=None)]\n",
      "organism [Characteristic(text='Hermaeophaga mercurialis', tag=None, unit=None)]\n",
      "organism part [Characteristic(text='THORAX|ABDOMEN', tag='attribute', unit=None)]\n",
      "project name [Characteristic(text='DTOL', tag='attribute', unit=None)]\n",
      "sample collection device or method [Characteristic(text='Hand Picked', tag='attribute', unit=None)]\n",
      "sample derived from [Characteristic(text='SAMEA111458305', tag='attribute', unit=None)]\n",
      "sex [Characteristic(text='NOT PROVIDED', tag='attribute', unit=None)]\n",
      "specimen_id [Characteristic(text='NHMUK014433935', tag='attribute', unit=None)]\n",
      "title [Characteristic(text='c97957c2-b340-41a9-9290-29b19bf0e72e-dtol', tag=None, unit=None)]\n",
      "tolid [Characteristic(text='icHerMerc5', tag='attribute', unit=None)]\n"
     ]
    }
   ],
   "source": [
    "for k, v in sample.characteristics.items():\n",
    "    print(k, v)"
   ]
  },
  {
   "cell_type": "code",
   "execution_count": 12,
   "id": "f757a9e2",
   "metadata": {},
   "outputs": [
    {
     "data": {
      "text/plain": [
       "{'name': '633abc0b573023627367efd0',\n",
       " 'accession': 'SAMEA111457860',\n",
       " 'webinSubmissionAccountId': 'Webin-39233',\n",
       " 'taxId': 1594449,\n",
       " 'release': '2022-10-12T14:08:26Z',\n",
       " 'update': '2022-12-14T23:15:48.848Z',\n",
       " 'submitted': '2022-10-12T14:08:26Z',\n",
       " 'characteristics': {'ENA-CHECKLIST': [{'text': 'ERC000053',\n",
       "    'tag': 'attribute'}],\n",
       "  'ENA-FIRST-PUBLIC': [{'text': '2022-10-12', 'tag': 'attribute'}],\n",
       "  'ENA-LAST-UPDATE': [{'text': '2022-10-12', 'tag': 'attribute'}],\n",
       "  'External Id': [{'text': 'SAMEA111457860', 'tag': 'Namespace:BioSample'}],\n",
       "  'GAL': [{'text': 'Natural History Museum', 'tag': 'attribute'}],\n",
       "  'GAL_sample_id': [{'text': 'NHMUK013805989', 'tag': 'attribute'}],\n",
       "  'INSDC center alias': [{'text': 'EarlhamInstitute'}],\n",
       "  'INSDC center name': [{'text': 'EarlhamInstitute'}],\n",
       "  'INSDC first public': [{'text': '2022-10-12T14:08:26Z'}],\n",
       "  'INSDC last update': [{'text': '2022-10-12T14:08:26Z'}],\n",
       "  'INSDC status': [{'text': 'public'}],\n",
       "  'SRA accession': [{'text': 'ERS13551896'}],\n",
       "  'Submitter Id': [{'text': '633abc0b573023627367efd0',\n",
       "    'tag': 'Namespace:EarlhamInstitute'}],\n",
       "  'barcoding center': [{'text': 'NATURAL HISTORY MUSEUM', 'tag': 'attribute'}],\n",
       "  'broker name': [{'text': 'Collaborative Open Plant Omics broker account, Earlham Institute, Norwich'}],\n",
       "  'collected_by': [{'text': 'IAN SIMS', 'tag': 'attribute'}],\n",
       "  'collecting institution': [{'text': 'THE BRITISH ENTOMOLOGICAL AND NATURAL HISTORY SOCIETY (BENHS)',\n",
       "    'tag': 'attribute'}],\n",
       "  'collection date': [{'text': '2021-07-29', 'tag': 'attribute'}],\n",
       "  'geographic location (country and/or sea)': [{'text': 'United Kingdom',\n",
       "    'tag': 'attribute'}],\n",
       "  'geographic location (latitude)': [{'text': '51.51',\n",
       "    'unit': 'DD',\n",
       "    'tag': 'attribute'}],\n",
       "  'geographic location (longitude)': [{'text': '-1.11',\n",
       "    'unit': 'DD',\n",
       "    'tag': 'attribute'}],\n",
       "  'geographic location (region and locality)': [{'text': 'England|Hartslock NR',\n",
       "    'tag': 'attribute'}],\n",
       "  'habitat': [{'text': 'NOT COLLECTED', 'tag': 'attribute'}],\n",
       "  'identified_by': [{'text': 'IAN SIMS | DAVID LEES', 'tag': 'attribute'}],\n",
       "  'identifier_affiliation': [{'text': 'THE BRITISH ENTOMOLOGICAL AND NATURAL HISTORY SOCIETY (BENHS) | NATURAL HISTORY MUSEUM',\n",
       "    'tag': 'attribute'}],\n",
       "  'lifestage': [{'text': 'adult', 'tag': 'attribute'}],\n",
       "  'organism': [{'text': 'Euspilapteryx auroguttella',\n",
       "    'ontologyTerms': ['http://purl.obolibrary.org/obo/NCBITaxon_1594449']}],\n",
       "  'organism part': [{'text': 'THORAX|ABDOMEN', 'tag': 'attribute'}],\n",
       "  'project name': [{'text': 'DTOL', 'tag': 'attribute'}],\n",
       "  'sample collection device or method': [{'text': 'Light Trap',\n",
       "    'tag': 'attribute'}],\n",
       "  'sample derived from': [{'text': 'SAMEA111437157', 'tag': 'attribute'}],\n",
       "  'sex': [{'text': 'NOT PROVIDED', 'tag': 'attribute'}],\n",
       "  'specimen_id': [{'text': 'NHMUK013805989', 'tag': 'attribute'}],\n",
       "  'title': [{'text': '5c79c282-72ee-46de-97e5-94b617131aef-dtol'}],\n",
       "  'tolid': [{'text': 'ilEusAuro4', 'tag': 'attribute'}]},\n",
       " 'relationships': [{'source': 'SAMEA111457860',\n",
       "   'type': 'derived from',\n",
       "   'target': 'SAMEA111437157'}],\n",
       " 'externalReferences': [{'url': 'https://www.ebi.ac.uk/ena/browser/view/SAMEA111457860',\n",
       "   'duo': []}],\n",
       " 'submittedVia': 'PIPELINE_IMPORT',\n",
       " 'create': '2022-10-12T13:08:26.716Z',\n",
       " '_links': {'self': {'href': 'https://www.ebi.ac.uk/biosamples/samples/SAMEA111457860'},\n",
       "  'curationDomain': {'href': 'https://www.ebi.ac.uk/biosamples/samples/SAMEA111457860{?curationdomain}',\n",
       "   'templated': True},\n",
       "  'curationLinks': {'href': 'https://www.ebi.ac.uk/biosamples/samples/SAMEA111457860/curationlinks'},\n",
       "  'curationLink': {'href': 'https://www.ebi.ac.uk/biosamples/samples/SAMEA111457860/curationlinks/{hash}',\n",
       "   'templated': True},\n",
       "  'structuredData': {'href': 'https://www.ebi.ac.uk/biosamples/structureddata/SAMEA111457860'}}}"
      ]
     },
     "execution_count": 12,
     "metadata": {},
     "output_type": "execute_result"
    }
   ],
   "source": [
    "sample_obj"
   ]
  },
  {
   "cell_type": "code",
   "execution_count": 2,
   "id": "863f1c93",
   "metadata": {},
   "outputs": [],
   "source": [
    "request_uri = f\"http://www.ebi.ac.uk/biosamples/samples\""
   ]
  },
  {
   "cell_type": "code",
   "execution_count": 10,
   "id": "f3b5bc94",
   "metadata": {},
   "outputs": [],
   "source": [
    "fname = \"NHMUK014453625-01.jpg\""
   ]
  },
  {
   "cell_type": "code",
   "execution_count": 11,
   "id": "8499edb3",
   "metadata": {},
   "outputs": [],
   "source": [
    "specimen_id = \"NHMUK014453625\""
   ]
  },
  {
   "cell_type": "code",
   "execution_count": 12,
   "id": "291498f7",
   "metadata": {},
   "outputs": [],
   "source": [
    "r = requests.get(request_uri, params='filter=attr:specimen+id:NHMUK014453625')"
   ]
  },
  {
   "cell_type": "code",
   "execution_count": 13,
   "id": "d2aa0bda",
   "metadata": {},
   "outputs": [
    {
     "data": {
      "text/plain": [
       "200"
      ]
     },
     "execution_count": 13,
     "metadata": {},
     "output_type": "execute_result"
    }
   ],
   "source": [
    "r.status_code"
   ]
  },
  {
   "cell_type": "code",
   "execution_count": 14,
   "id": "257f5beb",
   "metadata": {},
   "outputs": [
    {
     "data": {
      "text/plain": [
       "'https://www.ebi.ac.uk/biosamples/samples?filter=attr:specimen+id:NHMUK014453625'"
      ]
     },
     "execution_count": 14,
     "metadata": {},
     "output_type": "execute_result"
    }
   ],
   "source": [
    "r.url"
   ]
  },
  {
   "cell_type": "code",
   "execution_count": 15,
   "id": "89ea211d",
   "metadata": {},
   "outputs": [],
   "source": [
    "obj = json.loads(r.content)"
   ]
  },
  {
   "cell_type": "code",
   "execution_count": 17,
   "id": "71444fd6",
   "metadata": {},
   "outputs": [
    {
     "data": {
      "text/plain": [
       "{'name': '628cfe9dd10d9fc0282b8ab0',\n",
       " 'accession': 'SAMEA14448373',\n",
       " 'webinSubmissionAccountId': 'Webin-39233',\n",
       " 'taxId': 6396,\n",
       " 'release': '2022-05-24T16:49:50Z',\n",
       " 'update': '2022-07-15T16:50:36.599Z',\n",
       " 'submitted': '2022-05-24T16:49:50Z',\n",
       " 'characteristics': {'ENA first public': [{'text': '2022-05-24',\n",
       "    'tag': 'attribute'}],\n",
       "  'ENA last update': [{'text': '2022-05-24', 'tag': 'attribute'}],\n",
       "  'ENA-CHECKLIST': [{'text': 'ERC000053', 'tag': 'attribute'}],\n",
       "  'External Id': [{'text': 'SAMEA14448373', 'tag': 'Namespace:BioSample'}],\n",
       "  'GAL': [{'text': 'Natural History Museum', 'tag': 'attribute'}],\n",
       "  'GAL_sample_id': [{'text': 'NOT PROVIDED', 'tag': 'attribute'}],\n",
       "  'INSDC center alias': [{'text': 'EarlhamInstitute'}],\n",
       "  'INSDC center name': [{'text': 'EarlhamInstitute'}],\n",
       "  'INSDC first public': [{'text': '2022-05-24T16:49:50Z'}],\n",
       "  'INSDC last update': [{'text': '2022-05-24T16:49:50Z'}],\n",
       "  'INSDC status': [{'text': 'public'}],\n",
       "  'SRA accession': [{'text': 'ERS12067904'}],\n",
       "  'Submitter Id': [{'text': '628cfe9dd10d9fc0282b8ab0',\n",
       "    'tag': 'Namespace:EarlhamInstitute'}],\n",
       "  'barcoding center': [{'text': 'NOT PROVIDED', 'tag': 'attribute'}],\n",
       "  'broker name': [{'text': 'Collaborative Open Plant Omics broker account, Earlham Institute, Norwich'}],\n",
       "  'collected by': [{'text': 'EMMA SHERLOCK | CHRIS FLETCHER | EMMA SHERLOCK | CHRIS FLETCHER',\n",
       "    'tag': 'attribute'}],\n",
       "  'collecting institution': [{'text': 'NATURAL HISTORY MUSEUM | NATURAL HISTORY MUSEUM | NATURAL HISTORY MUSEUM | NATURAL HISTORY MUSEUM',\n",
       "    'tag': 'attribute'}],\n",
       "  'collection date': [{'text': '2021-04-15', 'tag': 'attribute'}],\n",
       "  'common name': [{'text': 'common brandling worm'}],\n",
       "  'geographic location (country and/or sea)': [{'text': 'United Kingdom',\n",
       "    'tag': 'attribute'}],\n",
       "  'geographic location (latitude)': [{'text': '51.5',\n",
       "    'unit': 'DD',\n",
       "    'tag': 'attribute'}],\n",
       "  'geographic location (longitude)': [{'text': '-0.18',\n",
       "    'unit': 'DD',\n",
       "    'tag': 'attribute'}],\n",
       "  'geographic location (region and locality)': [{'text': 'England|Natural History Museum Wildlife Garden',\n",
       "    'tag': 'attribute'}],\n",
       "  'habitat': [{'text': 'NOT COLLECTED', 'tag': 'attribute'}],\n",
       "  'identified by': [{'text': 'EMMA SHERLOCK', 'tag': 'attribute'}],\n",
       "  'identifier_affiliation': [{'text': 'NATURAL HISTORY MUSEUM',\n",
       "    'tag': 'attribute'}],\n",
       "  'lifestage': [{'text': 'adult', 'tag': 'attribute'}],\n",
       "  'organism': [{'text': 'Eisenia fetida',\n",
       "    'ontologyTerms': ['http://purl.obolibrary.org/obo/NCBITaxon_6396']}],\n",
       "  'organism part': [{'text': 'WHOLE ORGANISM', 'tag': 'attribute'}],\n",
       "  'project name': [{'text': 'DTOL', 'tag': 'attribute'}],\n",
       "  'sex': [{'text': 'NOT COLLECTED', 'tag': 'attribute'}],\n",
       "  'specimen id': [{'text': 'NHMUK014444588', 'tag': 'attribute'}],\n",
       "  'title': [{'text': '26bba8f1-2b3d-46dd-8f48-42f5b102b481-DTOL-specimen'}],\n",
       "  'tolid': [{'text': 'wcEisFeti12', 'tag': 'attribute'}]},\n",
       " 'externalReferences': [{'url': 'https://www.ebi.ac.uk/ena/browser/view/SAMEA14448373',\n",
       "   'duo': []}],\n",
       " 'submittedVia': 'JSON_API',\n",
       " 'create': '2022-05-24T15:49:50.047Z',\n",
       " '_links': {'self': {'href': 'https://www.ebi.ac.uk/biosamples/samples/SAMEA14448373'},\n",
       "  'curationDomain': {'href': 'https://www.ebi.ac.uk/biosamples/samples/SAMEA14448373{?curationdomain}',\n",
       "   'templated': True},\n",
       "  'curationLinks': {'href': 'https://www.ebi.ac.uk/biosamples/samples/SAMEA14448373/curationlinks'},\n",
       "  'curationLink': {'href': 'https://www.ebi.ac.uk/biosamples/samples/SAMEA14448373/curationlinks/{hash}',\n",
       "   'templated': True},\n",
       "  'structuredData': {'href': 'https://www.ebi.ac.uk/biosamples/structureddata/SAMEA14448373'}}}"
      ]
     },
     "execution_count": 17,
     "metadata": {},
     "output_type": "execute_result"
    }
   ],
   "source": [
    "bs_obj"
   ]
  },
  {
   "cell_type": "code",
   "execution_count": 16,
   "id": "68a1eaa6",
   "metadata": {},
   "outputs": [
    {
     "ename": "KeyError",
     "evalue": "'_embedded'",
     "output_type": "error",
     "traceback": [
      "\u001b[0;31m---------------------------------------------------------------------------\u001b[0m",
      "\u001b[0;31mKeyError\u001b[0m                                  Traceback (most recent call last)",
      "Input \u001b[0;32mIn [16]\u001b[0m, in \u001b[0;36m<cell line: 1>\u001b[0;34m()\u001b[0m\n\u001b[0;32m----> 1\u001b[0m bs_obj \u001b[38;5;241m=\u001b[39m \u001b[43mobj\u001b[49m\u001b[43m[\u001b[49m\u001b[38;5;124;43m'\u001b[39;49m\u001b[38;5;124;43m_embedded\u001b[39;49m\u001b[38;5;124;43m'\u001b[39;49m\u001b[43m]\u001b[49m[\u001b[38;5;124m'\u001b[39m\u001b[38;5;124msamples\u001b[39m\u001b[38;5;124m'\u001b[39m][\u001b[38;5;241m0\u001b[39m]\n",
      "\u001b[0;31mKeyError\u001b[0m: '_embedded'"
     ]
    }
   ],
   "source": [
    "bs_obj = obj['_embedded']['samples'][0]"
   ]
  },
  {
   "cell_type": "code",
   "execution_count": 8,
   "id": "57ddee27",
   "metadata": {},
   "outputs": [
    {
     "data": {
      "text/plain": [
       "{'name': '628cfe9dd10d9fc0282b8ab0',\n",
       " 'accession': 'SAMEA14448373',\n",
       " 'webinSubmissionAccountId': 'Webin-39233',\n",
       " 'taxId': 6396,\n",
       " 'release': '2022-05-24T16:49:50Z',\n",
       " 'update': '2022-07-15T16:50:36.599Z',\n",
       " 'submitted': '2022-05-24T16:49:50Z',\n",
       " 'characteristics': {'ENA first public': [{'text': '2022-05-24',\n",
       "    'tag': 'attribute'}],\n",
       "  'ENA last update': [{'text': '2022-05-24', 'tag': 'attribute'}],\n",
       "  'ENA-CHECKLIST': [{'text': 'ERC000053', 'tag': 'attribute'}],\n",
       "  'External Id': [{'text': 'SAMEA14448373', 'tag': 'Namespace:BioSample'}],\n",
       "  'GAL': [{'text': 'Natural History Museum', 'tag': 'attribute'}],\n",
       "  'GAL_sample_id': [{'text': 'NOT PROVIDED', 'tag': 'attribute'}],\n",
       "  'INSDC center alias': [{'text': 'EarlhamInstitute'}],\n",
       "  'INSDC center name': [{'text': 'EarlhamInstitute'}],\n",
       "  'INSDC first public': [{'text': '2022-05-24T16:49:50Z'}],\n",
       "  'INSDC last update': [{'text': '2022-05-24T16:49:50Z'}],\n",
       "  'INSDC status': [{'text': 'public'}],\n",
       "  'SRA accession': [{'text': 'ERS12067904'}],\n",
       "  'Submitter Id': [{'text': '628cfe9dd10d9fc0282b8ab0',\n",
       "    'tag': 'Namespace:EarlhamInstitute'}],\n",
       "  'barcoding center': [{'text': 'NOT PROVIDED', 'tag': 'attribute'}],\n",
       "  'broker name': [{'text': 'Collaborative Open Plant Omics broker account, Earlham Institute, Norwich'}],\n",
       "  'collected by': [{'text': 'EMMA SHERLOCK | CHRIS FLETCHER | EMMA SHERLOCK | CHRIS FLETCHER',\n",
       "    'tag': 'attribute'}],\n",
       "  'collecting institution': [{'text': 'NATURAL HISTORY MUSEUM | NATURAL HISTORY MUSEUM | NATURAL HISTORY MUSEUM | NATURAL HISTORY MUSEUM',\n",
       "    'tag': 'attribute'}],\n",
       "  'collection date': [{'text': '2021-04-15', 'tag': 'attribute'}],\n",
       "  'common name': [{'text': 'common brandling worm'}],\n",
       "  'geographic location (country and/or sea)': [{'text': 'United Kingdom',\n",
       "    'tag': 'attribute'}],\n",
       "  'geographic location (latitude)': [{'text': '51.5',\n",
       "    'unit': 'DD',\n",
       "    'tag': 'attribute'}],\n",
       "  'geographic location (longitude)': [{'text': '-0.18',\n",
       "    'unit': 'DD',\n",
       "    'tag': 'attribute'}],\n",
       "  'geographic location (region and locality)': [{'text': 'England|Natural History Museum Wildlife Garden',\n",
       "    'tag': 'attribute'}],\n",
       "  'habitat': [{'text': 'NOT COLLECTED', 'tag': 'attribute'}],\n",
       "  'identified by': [{'text': 'EMMA SHERLOCK', 'tag': 'attribute'}],\n",
       "  'identifier_affiliation': [{'text': 'NATURAL HISTORY MUSEUM',\n",
       "    'tag': 'attribute'}],\n",
       "  'lifestage': [{'text': 'adult', 'tag': 'attribute'}],\n",
       "  'organism': [{'text': 'Eisenia fetida',\n",
       "    'ontologyTerms': ['http://purl.obolibrary.org/obo/NCBITaxon_6396']}],\n",
       "  'organism part': [{'text': 'WHOLE ORGANISM', 'tag': 'attribute'}],\n",
       "  'project name': [{'text': 'DTOL', 'tag': 'attribute'}],\n",
       "  'sex': [{'text': 'NOT COLLECTED', 'tag': 'attribute'}],\n",
       "  'specimen id': [{'text': 'NHMUK014444588', 'tag': 'attribute'}],\n",
       "  'title': [{'text': '26bba8f1-2b3d-46dd-8f48-42f5b102b481-DTOL-specimen'}],\n",
       "  'tolid': [{'text': 'wcEisFeti12', 'tag': 'attribute'}]},\n",
       " 'externalReferences': [{'url': 'https://www.ebi.ac.uk/ena/browser/view/SAMEA14448373',\n",
       "   'duo': []}],\n",
       " 'submittedVia': 'JSON_API',\n",
       " 'create': '2022-05-24T15:49:50.047Z',\n",
       " '_links': {'self': {'href': 'https://www.ebi.ac.uk/biosamples/samples/SAMEA14448373'},\n",
       "  'curationDomain': {'href': 'https://www.ebi.ac.uk/biosamples/samples/SAMEA14448373{?curationdomain}',\n",
       "   'templated': True},\n",
       "  'curationLinks': {'href': 'https://www.ebi.ac.uk/biosamples/samples/SAMEA14448373/curationlinks'},\n",
       "  'curationLink': {'href': 'https://www.ebi.ac.uk/biosamples/samples/SAMEA14448373/curationlinks/{hash}',\n",
       "   'templated': True},\n",
       "  'structuredData': {'href': 'https://www.ebi.ac.uk/biosamples/structureddata/SAMEA14448373'}}}"
      ]
     },
     "execution_count": 8,
     "metadata": {},
     "output_type": "execute_result"
    }
   ],
   "source": [
    "bs_obj"
   ]
  },
  {
   "cell_type": "code",
   "execution_count": 9,
   "id": "fa5a7940",
   "metadata": {},
   "outputs": [
    {
     "ename": "NameError",
     "evalue": "name 'BioSample' is not defined",
     "output_type": "error",
     "traceback": [
      "\u001b[0;31m---------------------------------------------------------------------------\u001b[0m",
      "\u001b[0;31mNameError\u001b[0m                                 Traceback (most recent call last)",
      "Input \u001b[0;32mIn [9]\u001b[0m, in \u001b[0;36m<cell line: 1>\u001b[0;34m()\u001b[0m\n\u001b[0;32m----> 1\u001b[0m \u001b[43mBioSample\u001b[49m\u001b[38;5;241m.\u001b[39mparse_obj(bs_obj)\u001b[38;5;241m.\u001b[39mrelationships\n",
      "\u001b[0;31mNameError\u001b[0m: name 'BioSample' is not defined"
     ]
    }
   ],
   "source": [
    "BioSample.parse_obj(bs_obj).relationships"
   ]
  },
  {
   "cell_type": "code",
   "execution_count": null,
   "id": "29c23bc8",
   "metadata": {},
   "outputs": [],
   "source": []
  }
 ],
 "metadata": {
  "kernelspec": {
   "display_name": "Python 3 (ipykernel)",
   "language": "python",
   "name": "python3"
  },
  "language_info": {
   "codemirror_mode": {
    "name": "ipython",
    "version": 3
   },
   "file_extension": ".py",
   "mimetype": "text/x-python",
   "name": "python",
   "nbconvert_exporter": "python",
   "pygments_lexer": "ipython3",
   "version": "3.11.0"
  }
 },
 "nbformat": 4,
 "nbformat_minor": 5
}
