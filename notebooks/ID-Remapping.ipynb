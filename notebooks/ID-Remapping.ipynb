{
 "cells": [
  {
   "cell_type": "code",
   "execution_count": 2,
   "id": "8b93fdd8",
   "metadata": {},
   "outputs": [],
   "source": [
    "import json"
   ]
  },
  {
   "cell_type": "code",
   "execution_count": 3,
   "id": "acbffd85",
   "metadata": {},
   "outputs": [],
   "source": [
    "with open(\"../copo_biosamples_from_nhmdump_spreadsheet.json\") as fh:\n",
    "    raw_copo = json.load(fh)"
   ]
  },
  {
   "cell_type": "markdown",
   "id": "794ec070",
   "metadata": {},
   "source": [
    "#### for cID in raw_copo['_id'].\n",
    "raw_copo['biosampleAccession']"
   ]
  },
  {
   "cell_type": "code",
   "execution_count": 6,
   "id": "c8e011c5",
   "metadata": {},
   "outputs": [],
   "source": [
    "copo_attrs = raw_copo.keys()"
   ]
  },
  {
   "cell_type": "code",
   "execution_count": 12,
   "id": "1ca258aa",
   "metadata": {},
   "outputs": [],
   "source": [
    "indexes = list(raw_copo.values())[0].keys()"
   ]
  },
  {
   "cell_type": "code",
   "execution_count": 33,
   "id": "29d900a5",
   "metadata": {},
   "outputs": [],
   "source": [
    "sample_dicts = {\n",
    "    index: { attr: raw_copo[attr][index] for attr in copo_attrs }\n",
    "    for index in indexes\n",
    "}"
   ]
  },
  {
   "cell_type": "code",
   "execution_count": 34,
   "id": "0faac865",
   "metadata": {},
   "outputs": [
    {
     "data": {
      "text/plain": [
       "{'_id': '633abc28573023627367f21e',\n",
       " 'collected_by': 'DAVID LEES',\n",
       " 'collection date': '2021-07-04',\n",
       " 'sex': 'MALE',\n",
       " 'lifestage': 'ADULT',\n",
       " 'identified_by': 'DAVID LEES',\n",
       " 'identifier_affiliation': 'NATURAL HISTORY MUSEUM',\n",
       " 'specimen_id': 'NHMUK013696809',\n",
       " 'ORDER_OR_GROUP': 'Lepidoptera',\n",
       " 'FAMILY': 'Sesiidae',\n",
       " 'GENUS': 'Synanthedon',\n",
       " 'TAXON_ID': '1108569',\n",
       " 'SCIENTIFIC_NAME': 'Synanthedon andrenaeformis',\n",
       " 'TAXON_REMARKS': '',\n",
       " 'INFRASPECIFIC_EPITHET': '',\n",
       " 'culture_or_strain_id': '',\n",
       " 'COMMON_NAME': '',\n",
       " 'collecting institution': 'NATURAL HISTORY MUSEUM',\n",
       " 'HAZARD_GROUP': 'HG1',\n",
       " 'REGULATORY_COMPLIANCE': 'Y',\n",
       " 'COLLECTION_LOCATION': 'United Kingdom|England|High Wycombe|Lucas Road',\n",
       " 'geographic location (latitude)': '51.63',\n",
       " 'geographic location (longitude)': '-0.74',\n",
       " 'GRID_REFERENCE': 'NOT_COLLECTED',\n",
       " 'habitat': 'NOT_COLLECTED',\n",
       " 'geographic location (depth)': '',\n",
       " 'geographic location (elevation)': '',\n",
       " 'sample collection device or method': 'pheromone lure',\n",
       " 'DIFFICULT_OR_HIGH_PRIORITY_SAMPLE': 'NOT_APPLICABLE',\n",
       " 'DATE_OF_PRESERVATION': 'NOT_COLLECTED',\n",
       " 'TIME_OF_COLLECTION': '',\n",
       " 'TIME_ELAPSED_FROM_COLLECTION_TO_PRESERVATION': 'NOT_COLLECTED',\n",
       " 'PRESERVATION_APPROACH': 'Dry frozen (-80°C)',\n",
       " 'PRESERVATIVE_SOLUTION': '',\n",
       " 'RACK_OR_PLATE_ID': 'FE00373052',\n",
       " 'TUBE_OR_WELL_ID': 'FR25589311',\n",
       " 'GAL': '',\n",
       " 'GAL_sample_id': 'NHMUK013696809',\n",
       " 'COLLECTOR_SAMPLE_ID': 'NOT_COLLECTED',\n",
       " 'PRESERVED_BY': 'Laura Sivess',\n",
       " 'PRESERVER_AFFILIATION': 'Natural History Museum London',\n",
       " 'organism part': 'ABDOMEN',\n",
       " 'SYMBIONT': '',\n",
       " 'species_list': [{'SYMBIONT': 'TARGET',\n",
       "   'TAXON_ID': '1108569',\n",
       "   'ORDER_OR_GROUP': 'Lepidoptera',\n",
       "   'FAMILY': 'Sesiidae',\n",
       "   'GENUS': 'Synanthedon',\n",
       "   'SCIENTIFIC_NAME': 'Synanthedon andrenaeformis',\n",
       "   'INFRASPECIFIC_EPITHET': '',\n",
       "   'CULTURE_OR_STRAIN_ID': '',\n",
       "   'COMMON_NAME': '',\n",
       "   'TAXON_REMARKS': ''}],\n",
       " 'relationship': '',\n",
       " 'IDENTIFIED_HOW': 'MORPHOLOGY',\n",
       " 'SPECIMEN_IDENTITY_RISK': 'N',\n",
       " 'TEMPERATURE': '',\n",
       " 'SALINITY': '',\n",
       " 'PH': '',\n",
       " 'CHLA': '',\n",
       " 'LIGHT_INTENSITY': '',\n",
       " 'DISOLVED_OXYGEN': '',\n",
       " 'OTHER_INFORMATION': '',\n",
       " 'rack_tube': 'FE00373052/FR25589311',\n",
       " 'SPECIES_RARITY': '',\n",
       " 'GENOME_SIZE': '',\n",
       " 'SIZE_OF_TISSUE_IN_TUBE': 'NOT_COLLECTED',\n",
       " 'TISSUE_REMOVED_FOR_BARCODING': 'Y',\n",
       " 'PLATE_ID_FOR_BARCODING': 'C9K02U9Z',\n",
       " 'TUBE_OR_WELL_ID_FOR_BARCODING': 'B10',\n",
       " 'SERIES': '593',\n",
       " 'TISSUE_FOR_BARCODING': 'LEG',\n",
       " 'BARCODE_PLATE_PRESERVATIVE': 'ETHANOL',\n",
       " 'PURPOSE_OF_SPECIMEN': 'REFERENCE_GENOME',\n",
       " 'specimen_voucher': 'NOT_APPLICABLE',\n",
       " 'characteristics': [],\n",
       " 'factorValues': [],\n",
       " 'sample_type': 'dtol',\n",
       " 'profile_id': '6321f07cb3a01dc1404a8dea',\n",
       " 'manifest_id': '0a56faff-911a-4581-a380-6cff6afe0c72',\n",
       " 'biosampleAccession': 'SAMEA111458773',\n",
       " 'sraAccession': 'ERS13552809',\n",
       " 'submissionAccession': 'ERA18518918',\n",
       " 'status': 'accepted',\n",
       " 'tol_project': 'DTOL',\n",
       " 'manifest_version': '2.4.1',\n",
       " 'tolid': 'ilSynAndr3',\n",
       " 'original collection location': '',\n",
       " 'original collection date': '',\n",
       " 'barcoding center': 'NATURAL HISTORY MUSEUM',\n",
       " 'original geographic location (latitude)': '',\n",
       " 'original geographic location (longitude)': '',\n",
       " 'MIXED_SAMPLE_RISK': 'N',\n",
       " 'BARCODING_STATUS': 'DNA_BARCODING_COMPLETED',\n",
       " 'proxy voucher': 'NOT_APPLICABLE',\n",
       " 'specimen voucher url': '',\n",
       " 'proxy voucher url': '',\n",
       " 'voucher institution url': '',\n",
       " 'SAMPLE_FORMAT': 'biological sample/tissue from non-infectious organism',\n",
       " 'sample coordinator': '',\n",
       " 'sample coordinator affiliation': '',\n",
       " 'sample coordinator ORCID ID': '',\n",
       " 'INDIGENOUS_RIGHTS_DEF': '',\n",
       " 'ASSOCIATED_TRADITIONAL_KNOWLEDGE_OR_BIOCULTURAL_RIGHTS_APPLICABLE': '',\n",
       " 'ASSOCIATED_TRADITIONAL_KNOWLEDGE_OR_BIOCULTURAL_PROJECT_ID': '',\n",
       " 'ASSOCIATED_TRADITIONAL_KNOWLEDGE_CONTACT': '',\n",
       " 'ETHICS_PERMITS_REQUIRED': '',\n",
       " 'ETHICS_PERMITS_DEF': '',\n",
       " 'SAMPLING_PERMITS_REQUIRED': '',\n",
       " 'SAMPLING_PERMITS_DEF': '',\n",
       " 'NAGOYA_PERMITS_REQUIRED': '',\n",
       " 'NAGOYA_PERMITS_DEF': '',\n",
       " 'TISSUE_REMOVED_FOR_BIOBANKING': '',\n",
       " 'bio_material': '',\n",
       " 'TISSUE_FOR_BIOBANKING': '',\n",
       " 'DNA_REMOVED_FOR_BIOBANKING': '',\n",
       " 'collector ORCID ID': '',\n",
       " 'SEQUENCING_CENTRE': '',\n",
       " 'WATER_BODY_TYPE': '',\n",
       " 'SAMPLING_WATER_BODY_DEPTH': '',\n",
       " 'WATER_SPEED': '',\n",
       " 'WATER_TYPE': '',\n",
       " 'CHLOROPHYL_A': '',\n",
       " 'NUTRIENTS': '',\n",
       " 'DISSOLVED_OXYGEN': '',\n",
       " 'SORTED_BY': '',\n",
       " 'SORTER_AFFILIATION': '',\n",
       " 'SORTING_APPROACH': '',\n",
       " 'SORT_STAIN': '',\n",
       " 'CELL_NUMBER': '',\n",
       " 'name': '',\n",
       " 'organism': '',\n",
       " 'derivesFrom': '',\n",
       " 'deleted': '0',\n",
       " 'date_modified': '2022-10-12 13:42:47.000000',\n",
       " 'created_by': 'inez.januszczak@nhm.ac.uk',\n",
       " 'time_created': '2022-10-03 10:40:40.000000',\n",
       " 'time_updated': '2022-10-12 13:42:47.000000',\n",
       " 'updated_by': 'ips@sanger.ac.uk',\n",
       " 'sample derived from': 'SAMEA111458711',\n",
       " 'sample same as': None,\n",
       " 'SPECIMEN_ID_RISK': None,\n",
       " 'INDIGENOUS_RIGHTS_APPLICABLE': None,\n",
       " 'ASSOCIATED_TRADITIONAL_KNOWLEDGE_APPLICABLE': None,\n",
       " 'ASSOCIATED_TRADITIONAL_KNOWLEDGE_LABEL': None,\n",
       " 'ETHICS_PERMITS_MANDATORY': None,\n",
       " 'SAMPLING_PERMITS_MANDATORY': None,\n",
       " 'NAGOYA_PERMITS_MANDATORY': None,\n",
       " 'changelog': None,\n",
       " 'error': None}"
      ]
     },
     "execution_count": 34,
     "metadata": {},
     "output_type": "execute_result"
    }
   ],
   "source": [
    "sample_dicts[\"15\"]"
   ]
  },
  {
   "cell_type": "code",
   "execution_count": null,
   "id": "eebde224",
   "metadata": {},
   "outputs": [],
   "source": [
    "biosampleAccession"
   ]
  },
  {
   "cell_type": "code",
   "execution_count": 26,
   "id": "eab2c586",
   "metadata": {},
   "outputs": [],
   "source": [
    "nhm_to_biosample_id = {\n",
    "    sample_dict['specimen_id'] : sample_dict['biosampleAccession']\n",
    "    for sample_dict in sample_dicts\n",
    "}"
   ]
  },
  {
   "cell_type": "code",
   "execution_count": 35,
   "id": "9eabb0c3",
   "metadata": {},
   "outputs": [
    {
     "data": {
      "text/plain": [
       "'SAMEA111458773'"
      ]
     },
     "execution_count": 35,
     "metadata": {},
     "output_type": "execute_result"
    }
   ],
   "source": [
    "nhm_to_biosample_id[\"NHMUK013696809\"]"
   ]
  },
  {
   "cell_type": "code",
   "execution_count": null,
   "id": "2b2183a5",
   "metadata": {},
   "outputs": [],
   "source": []
  }
 ],
 "metadata": {
  "kernelspec": {
   "display_name": "Python 3 (ipykernel)",
   "language": "python",
   "name": "python3"
  },
  "language_info": {
   "codemirror_mode": {
    "name": "ipython",
    "version": 3
   },
   "file_extension": ".py",
   "mimetype": "text/x-python",
   "name": "python",
   "nbconvert_exporter": "python",
   "pygments_lexer": "ipython3",
   "version": "3.11.0"
  }
 },
 "nbformat": 4,
 "nbformat_minor": 5
}
